{
 "cells": [
  {
   "attachments": {},
   "cell_type": "markdown",
   "metadata": {},
   "source": [
    "# Maximize and compare the accuracy of the following extractive summarization models: keyBERT, SciBERTSUM, MemSum\n",
    "\n",
    "Project work to complete the exam in [Text Mining by Prof. Gianluca Moro in the AC 2022/23 in Bologna](https://www.unibo.it/en/teaching/course-unit-catalogue/course-unit/2022/446610).\n",
    "\n",
    "The dataset is given and already divided into train, test and validation. The models have two targets to predict: relevant sentences and the relevant tokens. The accuracy on both targets should be maximized. The models to be used are:\n",
    "\n",
    "* [MemSum](https://github.com/nianlonggu/memsum)\n",
    "* [SciBERTSUM](https://github.com/atharsefid/SciBERTSUM)\n",
    "* [keyBERT](https://github.com/MaartenGr/KeyBERT)\n",
    "  * Simply the relevant sentences to be extracted will be those containing at least k relevant tokens, with k = 1, 2 or 3 that is an hyper parameter to be tuned."
   ]
  },
  {
   "attachments": {},
   "cell_type": "markdown",
   "metadata": {},
   "source": [
    "The project should be developed in colab with code commented in such a way that every step is understandable even without your verbal explanation in the discussion session."
   ]
  },
  {
   "attachments": {},
   "cell_type": "markdown",
   "metadata": {},
   "source": [
    "### Task description\n",
    "\n",
    "A dataset of social media-like dialoge is given with a ground truth of the sentences and the tokens (of the sentences) most relevant.\n",
    "\n",
    "The task is now to use different models trained on summarization, adapt them to the dataset given and compare their performance on the tasks of\n",
    "\n",
    "* extractive summarization\n",
    "* keyword generation\n",
    "\n"
   ]
  },
  {
   "attachments": {},
   "cell_type": "markdown",
   "metadata": {},
   "source": [
    "### Metrics\n",
    "\n",
    "* ROUGE-N for MemSum, keyBERT [see](https://towardsdatascience.com/the-ultimate-performance-metric-in-nlp-111df6c64460)"
   ]
  },
  {
   "attachments": {},
   "cell_type": "markdown",
   "metadata": {},
   "source": [
    "### Multi-step Episodic Markov decision process extractive SUMmarizer (MemSum)\n",
    "\n",
    "Based on reinforcement-learning episodic Markov decision processes, this extractive summarizer uses at each step\n",
    "\n",
    "1. the text context of the sentence\n",
    "2. the global text context (!)\n",
    "3. and the extraction history (!)\n",
    "\n",
    "While iteratively selecting further sentences to extract, it also auto-selects the stop state. It produces concise summaries with little redudancy.\n",
    "\n",
    "Even though that the model is lightweight, it has SOTA performance on long documents from PubMed, arXiv, and GovReport\n"
   ]
  },
  {
   "attachments": {},
   "cell_type": "markdown",
   "metadata": {},
   "source": [
    "### SciBERTSUM\n",
    "\n",
    "Extends BERTSUM by\n",
    "\n",
    "1. adding a section embedding layer to include section information in the sentence vector\n",
    "2. applying a sparse attention mechanism where each sentence will attend locally to nearby sentences and (randomly) to a small number of global sentences\n",
    "\n",
    "\n"
   ]
  },
  {
   "attachments": {},
   "cell_type": "markdown",
   "metadata": {},
   "source": [
    "### keyBERT\n",
    "\n",
    "Uses BERT embeddings and pretrained models. Then extracts keyword n-gram candidates and with cosine similarity and diversification selects the best keywords."
   ]
  },
  {
   "attachments": {},
   "cell_type": "markdown",
   "metadata": {},
   "source": [
    "### Summary\n",
    "\n",
    "Model | Technology | performance | context | history | trained on\n",
    "---|---|---|---|---|---\n",
    "MemSum | Markov decision processes | xy | local, global | extraction | arXiv, PubMed, GovReport\n",
    "SciBERTSUM | BERT with attention | xy | local, global | no | articles with presentation slides as ground truth\n",
    "keyBERT | BERT embeddings with cosine similarity | xy | cosine similarity, diversification | in diversification | own"
   ]
  },
  {
   "attachments": {},
   "cell_type": "markdown",
   "metadata": {},
   "source": [
    "### Expected results\n",
    "\n",
    "* MemSum, SciBERTSUM should be very good for long texts\n",
    "* MemSum should generate short summaries compared to other models, less redundant\n",
    "* keyBERT should be fast"
   ]
  },
  {
   "attachments": {},
   "cell_type": "markdown",
   "metadata": {},
   "source": [
    "## Preparation\n",
    "\n",
    "[Recommendations how to install packages](https://jakevdp.github.io/blog/2017/12/05/installing-python-packages-from-jupyter/)"
   ]
  },
  {
   "cell_type": "code",
   "execution_count": 2,
   "metadata": {},
   "outputs": [],
   "source": [
    "# !python3 -m venv env/ # only if you don't have a virtual environment\n",
    "!source env/bin/activate"
   ]
  },
  {
   "cell_type": "code",
   "execution_count": 3,
   "metadata": {},
   "outputs": [
    {
     "name": "stdout",
     "output_type": "stream",
     "text": [
      "Defaulting to user installation because normal site-packages is not writeable\n",
      "Looking in links: https://download.pytorch.org/whl/cu116/torch_stable.html\n",
      "Requirement already satisfied: numpy in /home/work/.local/lib/python3.8/site-packages (from -r requirements.txt (line 2)) (1.22.4)\n",
      "Requirement already satisfied: pandas in /home/work/.local/lib/python3.8/site-packages (from -r requirements.txt (line 3)) (1.5.1)\n",
      "Requirement already satisfied: gdown in /home/work/.local/lib/python3.8/site-packages (from -r requirements.txt (line 6)) (4.6.0)\n",
      "Requirement already satisfied: torchsummary in /home/work/.local/lib/python3.8/site-packages (from -r requirements.txt (line 10)) (1.5.1)\n",
      "Requirement already satisfied: tensorflow>=2.10.0 in /home/work/.local/lib/python3.8/site-packages (from -r requirements.txt (line 11)) (2.11.0)\n",
      "Requirement already satisfied: matplotlib in /home/work/.local/lib/python3.8/site-packages (from -r requirements.txt (line 14)) (3.4.3)\n",
      "Requirement already satisfied: seaborn in /home/work/.local/lib/python3.8/site-packages (from -r requirements.txt (line 15)) (0.11.2)\n",
      "Requirement already satisfied: tqdm in /home/work/.local/lib/python3.8/site-packages (from -r requirements.txt (line 18)) (4.60.0)\n",
      "Requirement already satisfied: rouge_score in /home/work/.local/lib/python3.8/site-packages (from -r requirements.txt (line 19)) (0.1.2)\n",
      "Requirement already satisfied: pyrouge in /home/work/.local/lib/python3.8/site-packages (from -r requirements.txt (line 20)) (0.1.3)\n",
      "Requirement already satisfied: keybert==0.7.0 in /home/work/.local/lib/python3.8/site-packages (from -r requirements.txt (line 23)) (0.7.0)\n",
      "Requirement already satisfied: sentence-transformers in /home/work/.local/lib/python3.8/site-packages (from -r requirements.txt (line 24)) (2.2.2)\n",
      "Requirement already satisfied: sklearn in /home/work/.local/lib/python3.8/site-packages (from -r requirements.txt (line 25)) (0.0)\n",
      "Requirement already satisfied: rich>=10.4.0 in /home/work/.local/lib/python3.8/site-packages (from keybert==0.7.0->-r requirements.txt (line 23)) (13.3.1)\n",
      "Requirement already satisfied: scikit-learn>=0.22.2 in /home/work/.local/lib/python3.8/site-packages (from keybert==0.7.0->-r requirements.txt (line 23)) (0.24.1)\n",
      "Requirement already satisfied: python-dateutil>=2.8.1 in /home/work/.local/lib/python3.8/site-packages (from pandas->-r requirements.txt (line 3)) (2.8.2)\n",
      "Requirement already satisfied: pytz>=2020.1 in /usr/local/lib/python3.8/dist-packages (from pandas->-r requirements.txt (line 3)) (2021.1)\n",
      "Requirement already satisfied: filelock in /home/work/.local/lib/python3.8/site-packages (from gdown->-r requirements.txt (line 6)) (3.4.2)\n",
      "Requirement already satisfied: six in /home/work/.local/lib/python3.8/site-packages (from gdown->-r requirements.txt (line 6)) (1.15.0)\n",
      "Requirement already satisfied: beautifulsoup4 in /usr/local/lib/python3.8/dist-packages (from gdown->-r requirements.txt (line 6)) (4.9.3)\n",
      "Requirement already satisfied: requests[socks] in /usr/local/lib/python3.8/dist-packages (from gdown->-r requirements.txt (line 6)) (2.25.1)\n",
      "Requirement already satisfied: flatbuffers>=2.0 in /home/work/.local/lib/python3.8/site-packages (from tensorflow>=2.10.0->-r requirements.txt (line 11)) (23.1.21)\n",
      "Requirement already satisfied: protobuf<3.20,>=3.9.2 in /home/work/.local/lib/python3.8/site-packages (from tensorflow>=2.10.0->-r requirements.txt (line 11)) (3.15.8)\n",
      "Requirement already satisfied: setuptools in /home/work/.local/lib/python3.8/site-packages (from tensorflow>=2.10.0->-r requirements.txt (line 11)) (56.0.0)\n",
      "Requirement already satisfied: typing-extensions>=3.6.6 in /home/work/.local/lib/python3.8/site-packages (from tensorflow>=2.10.0->-r requirements.txt (line 11)) (4.4.0)\n",
      "Requirement already satisfied: gast<=0.4.0,>=0.2.1 in /home/work/.local/lib/python3.8/site-packages (from tensorflow>=2.10.0->-r requirements.txt (line 11)) (0.3.3)\n",
      "Requirement already satisfied: astunparse>=1.6.0 in /home/work/.local/lib/python3.8/site-packages (from tensorflow>=2.10.0->-r requirements.txt (line 11)) (1.6.3)\n",
      "Requirement already satisfied: libclang>=13.0.0 in /home/work/.local/lib/python3.8/site-packages (from tensorflow>=2.10.0->-r requirements.txt (line 11)) (15.0.6.1)\n",
      "Requirement already satisfied: tensorflow-io-gcs-filesystem>=0.23.1 in /home/work/.local/lib/python3.8/site-packages (from tensorflow>=2.10.0->-r requirements.txt (line 11)) (0.30.0)\n",
      "Requirement already satisfied: packaging in /home/work/.local/lib/python3.8/site-packages (from tensorflow>=2.10.0->-r requirements.txt (line 11)) (21.0)\n",
      "Requirement already satisfied: grpcio<2.0,>=1.24.3 in /home/work/.local/lib/python3.8/site-packages (from tensorflow>=2.10.0->-r requirements.txt (line 11)) (1.32.0)\n",
      "Requirement already satisfied: absl-py>=1.0.0 in /home/work/.local/lib/python3.8/site-packages (from tensorflow>=2.10.0->-r requirements.txt (line 11)) (1.4.0)\n",
      "Requirement already satisfied: tensorflow-estimator<2.12,>=2.11.0 in /home/work/.local/lib/python3.8/site-packages (from tensorflow>=2.10.0->-r requirements.txt (line 11)) (2.11.0)\n",
      "Requirement already satisfied: opt-einsum>=2.3.2 in /home/work/.local/lib/python3.8/site-packages (from tensorflow>=2.10.0->-r requirements.txt (line 11)) (3.3.0)\n",
      "Requirement already satisfied: termcolor>=1.1.0 in /home/work/.local/lib/python3.8/site-packages (from tensorflow>=2.10.0->-r requirements.txt (line 11)) (1.1.0)\n",
      "Requirement already satisfied: tensorboard<2.12,>=2.11 in /home/work/.local/lib/python3.8/site-packages (from tensorflow>=2.10.0->-r requirements.txt (line 11)) (2.11.2)\n",
      "Requirement already satisfied: google-pasta>=0.1.1 in /home/work/.local/lib/python3.8/site-packages (from tensorflow>=2.10.0->-r requirements.txt (line 11)) (0.2.0)\n",
      "Requirement already satisfied: keras<2.12,>=2.11.0 in /home/work/.local/lib/python3.8/site-packages (from tensorflow>=2.10.0->-r requirements.txt (line 11)) (2.11.0)\n",
      "Requirement already satisfied: h5py>=2.9.0 in /home/work/.local/lib/python3.8/site-packages (from tensorflow>=2.10.0->-r requirements.txt (line 11)) (2.10.0)\n",
      "Requirement already satisfied: wrapt>=1.11.0 in /home/work/.local/lib/python3.8/site-packages (from tensorflow>=2.10.0->-r requirements.txt (line 11)) (1.12.1)\n",
      "Requirement already satisfied: pillow>=6.2.0 in /home/work/.local/lib/python3.8/site-packages (from matplotlib->-r requirements.txt (line 14)) (8.3.1)\n",
      "Requirement already satisfied: pyparsing>=2.2.1 in /usr/local/lib/python3.8/dist-packages (from matplotlib->-r requirements.txt (line 14)) (2.4.7)\n",
      "Requirement already satisfied: cycler>=0.10 in /home/work/.local/lib/python3.8/site-packages (from matplotlib->-r requirements.txt (line 14)) (0.10.0)\n",
      "Requirement already satisfied: kiwisolver>=1.0.1 in /home/work/.local/lib/python3.8/site-packages (from matplotlib->-r requirements.txt (line 14)) (1.3.1)\n",
      "Requirement already satisfied: scipy>=1.0 in /home/work/.local/lib/python3.8/site-packages (from seaborn->-r requirements.txt (line 15)) (1.7.1)\n",
      "Requirement already satisfied: nltk in /home/work/.local/lib/python3.8/site-packages (from rouge_score->-r requirements.txt (line 19)) (3.8.1)\n",
      "Requirement already satisfied: torch>=1.6.0 in /home/work/.local/lib/python3.8/site-packages (from sentence-transformers->-r requirements.txt (line 24)) (1.8.1)\n",
      "Requirement already satisfied: huggingface-hub>=0.4.0 in /home/work/.local/lib/python3.8/site-packages (from sentence-transformers->-r requirements.txt (line 24)) (0.12.0)\n",
      "Requirement already satisfied: torchvision in /home/work/.local/lib/python3.8/site-packages (from sentence-transformers->-r requirements.txt (line 24)) (0.9.1)\n",
      "Requirement already satisfied: transformers<5.0.0,>=4.6.0 in /home/work/.local/lib/python3.8/site-packages (from sentence-transformers->-r requirements.txt (line 24)) (4.26.0)\n",
      "Requirement already satisfied: sentencepiece in /home/work/.local/lib/python3.8/site-packages (from sentence-transformers->-r requirements.txt (line 24)) (0.1.97)\n",
      "Requirement already satisfied: wheel<1.0,>=0.23.0 in /home/work/.local/lib/python3.8/site-packages (from astunparse>=1.6.0->tensorflow>=2.10.0->-r requirements.txt (line 11)) (0.36.2)\n",
      "Requirement already satisfied: pyyaml>=5.1 in /home/work/.local/lib/python3.8/site-packages (from huggingface-hub>=0.4.0->sentence-transformers->-r requirements.txt (line 24)) (5.4.1)\n",
      "Requirement already satisfied: pygments<3.0.0,>=2.14.0 in /home/work/.local/lib/python3.8/site-packages (from rich>=10.4.0->keybert==0.7.0->-r requirements.txt (line 23)) (2.14.0)\n",
      "Requirement already satisfied: markdown-it-py<3.0.0,>=2.1.0 in /home/work/.local/lib/python3.8/site-packages (from rich>=10.4.0->keybert==0.7.0->-r requirements.txt (line 23)) (2.1.0)\n",
      "Requirement already satisfied: joblib>=0.11 in /home/work/.local/lib/python3.8/site-packages (from scikit-learn>=0.22.2->keybert==0.7.0->-r requirements.txt (line 23)) (1.0.1)\n",
      "Requirement already satisfied: threadpoolctl>=2.0.0 in /home/work/.local/lib/python3.8/site-packages (from scikit-learn>=0.22.2->keybert==0.7.0->-r requirements.txt (line 23)) (2.1.0)\n",
      "Requirement already satisfied: tensorboard-data-server<0.7.0,>=0.6.0 in /home/work/.local/lib/python3.8/site-packages (from tensorboard<2.12,>=2.11->tensorflow>=2.10.0->-r requirements.txt (line 11)) (0.6.0)\n",
      "Requirement already satisfied: werkzeug>=1.0.1 in /usr/local/lib/python3.8/dist-packages (from tensorboard<2.12,>=2.11->tensorflow>=2.10.0->-r requirements.txt (line 11)) (1.0.1)\n",
      "Requirement already satisfied: google-auth-oauthlib<0.5,>=0.4.1 in /home/work/.local/lib/python3.8/site-packages (from tensorboard<2.12,>=2.11->tensorflow>=2.10.0->-r requirements.txt (line 11)) (0.4.4)\n",
      "Requirement already satisfied: google-auth<3,>=1.6.3 in /home/work/.local/lib/python3.8/site-packages (from tensorboard<2.12,>=2.11->tensorflow>=2.10.0->-r requirements.txt (line 11)) (1.30.0)\n",
      "Requirement already satisfied: tensorboard-plugin-wit>=1.6.0 in /home/work/.local/lib/python3.8/site-packages (from tensorboard<2.12,>=2.11->tensorflow>=2.10.0->-r requirements.txt (line 11)) (1.8.0)\n",
      "Requirement already satisfied: markdown>=2.6.8 in /usr/local/lib/python3.8/dist-packages (from tensorboard<2.12,>=2.11->tensorflow>=2.10.0->-r requirements.txt (line 11)) (3.3.4)\n",
      "Requirement already satisfied: tokenizers!=0.11.3,<0.14,>=0.11.1 in /home/work/.local/lib/python3.8/site-packages (from transformers<5.0.0,>=4.6.0->sentence-transformers->-r requirements.txt (line 24)) (0.13.2)\n",
      "Requirement already satisfied: regex!=2019.12.17 in /home/work/.local/lib/python3.8/site-packages (from transformers<5.0.0,>=4.6.0->sentence-transformers->-r requirements.txt (line 24)) (2022.10.31)\n",
      "Requirement already satisfied: soupsieve>1.2 in /usr/local/lib/python3.8/dist-packages (from beautifulsoup4->gdown->-r requirements.txt (line 6)) (2.2.1)\n",
      "Requirement already satisfied: click in /usr/local/lib/python3.8/dist-packages (from nltk->rouge_score->-r requirements.txt (line 19)) (7.1.2)\n",
      "Requirement already satisfied: urllib3<1.27,>=1.21.1 in /usr/local/lib/python3.8/dist-packages (from requests[socks]->gdown->-r requirements.txt (line 6)) (1.26.4)\n",
      "Requirement already satisfied: idna<3,>=2.5 in /home/work/.local/lib/python3.8/site-packages (from requests[socks]->gdown->-r requirements.txt (line 6)) (2.10)\n",
      "Requirement already satisfied: certifi>=2017.4.17 in /home/work/.local/lib/python3.8/site-packages (from requests[socks]->gdown->-r requirements.txt (line 6)) (2020.12.5)\n",
      "Requirement already satisfied: chardet<5,>=3.0.2 in /usr/local/lib/python3.8/dist-packages (from requests[socks]->gdown->-r requirements.txt (line 6)) (4.0.0)\n",
      "Requirement already satisfied: PySocks!=1.5.7,>=1.5.6 in /home/work/.local/lib/python3.8/site-packages (from requests[socks]->gdown->-r requirements.txt (line 6)) (1.7.1)\n",
      "Requirement already satisfied: cachetools<5.0,>=2.0.0 in /home/work/.local/lib/python3.8/site-packages (from google-auth<3,>=1.6.3->tensorboard<2.12,>=2.11->tensorflow>=2.10.0->-r requirements.txt (line 11)) (4.2.2)\n",
      "Requirement already satisfied: pyasn1-modules>=0.2.1 in /home/work/.local/lib/python3.8/site-packages (from google-auth<3,>=1.6.3->tensorboard<2.12,>=2.11->tensorflow>=2.10.0->-r requirements.txt (line 11)) (0.2.8)\n",
      "Requirement already satisfied: rsa<5,>=3.1.4 in /home/work/.local/lib/python3.8/site-packages (from google-auth<3,>=1.6.3->tensorboard<2.12,>=2.11->tensorflow>=2.10.0->-r requirements.txt (line 11)) (4.7.2)\n",
      "Requirement already satisfied: requests-oauthlib>=0.7.0 in /home/work/.local/lib/python3.8/site-packages (from google-auth-oauthlib<0.5,>=0.4.1->tensorboard<2.12,>=2.11->tensorflow>=2.10.0->-r requirements.txt (line 11)) (1.3.0)\n",
      "Requirement already satisfied: mdurl~=0.1 in /home/work/.local/lib/python3.8/site-packages (from markdown-it-py<3.0.0,>=2.1.0->rich>=10.4.0->keybert==0.7.0->-r requirements.txt (line 23)) (0.1.2)\n",
      "Requirement already satisfied: pyasn1<0.5.0,>=0.4.6 in /home/work/.local/lib/python3.8/site-packages (from pyasn1-modules>=0.2.1->google-auth<3,>=1.6.3->tensorboard<2.12,>=2.11->tensorflow>=2.10.0->-r requirements.txt (line 11)) (0.4.8)\n",
      "Requirement already satisfied: oauthlib>=3.0.0 in /usr/lib/python3/dist-packages (from requests-oauthlib>=0.7.0->google-auth-oauthlib<0.5,>=0.4.1->tensorboard<2.12,>=2.11->tensorflow>=2.10.0->-r requirements.txt (line 11)) (3.1.0)\n"
     ]
    }
   ],
   "source": [
    "import sys\n",
    "!{sys.executable} -m pip install -r requirements.txt"
   ]
  },
  {
   "cell_type": "code",
   "execution_count": null,
   "metadata": {},
   "outputs": [],
   "source": [
    "# get and run Stanford CoreNLP\n",
    "import os\n",
    "!apt-get install openjdk-8-jdk-headless -qq > /dev/null\n",
    "\n",
    "# new files only if not already downloaded\n",
    "!wget -nc \"https://nlp.stanford.edu/software/stanford-corenlp-latest.zip\"\n",
    "!unzip -n \"stanford-corenlp-latest.zip\"\n",
    "# !java -mx4g -cp \"*\" edu.stanford.nlp.pipeline.StanfordCoreNLPServer -preload tokenize,ssplit,pos,lemma,ner,parse,depparse -status_port 9000 -port 9000 -timeout 15000 & \n"
   ]
  },
  {
   "cell_type": "code",
   "execution_count": 22,
   "metadata": {},
   "outputs": [],
   "source": [
    "import os\n",
    "import numpy as np\n",
    "import pandas as pd\n",
    "import config \n",
    "import json\n",
    "import torch\n",
    "from nltk.parse import CoreNLPParser\n",
    "import logging"
   ]
  },
  {
   "attachments": {},
   "cell_type": "markdown",
   "metadata": {},
   "source": [
    "## Installing the extractive summarization models"
   ]
  },
  {
   "attachments": {},
   "cell_type": "markdown",
   "metadata": {},
   "source": [
    "### Computing some summary statistics about the dataset\n",
    "\n",
    "- [ ] how long are the texts: train, test, val - how long is the longest\n",
    "- [ ] how long are the relevant sentences "
   ]
  },
  {
   "cell_type": "code",
   "execution_count": 38,
   "metadata": {},
   "outputs": [],
   "source": [
    "# set the working directory to ENV_PATH\n",
    "os.chdir(config.ENV_PATH)\n",
    "\n",
    "# visualize the data\n",
    "path_to_metadata = os.path.join(config.DATA_PATH, 'metadata.csv')\n",
    "if os.path.isfile(path_to_metadata):\n",
    "    metadata = pd.read_csv(path_to_metadata)\n",
    "else:\n",
    "    datasets = [ config.name_testset, config.name_trainset, config.name_valset, ]\n",
    "    columns_frame = ['name', 'n_dialogues',  # global per dataset\n",
    "                    'n_sentences_dialogue', 'n_words_dialogue', 'n_words_per_sentence',  # for the dialogues\n",
    "                    'n_extracts_per_summary_rel',  'n_words_per_extract_rel',\n",
    "                    'n_extracts_per_summary_fine', 'n_words_per_extract_fine']\n",
    "    metadata = pd.DataFrame(columns = columns_frame)  # for the summaries\n",
    "\n",
    "    logging.basicConfig(filename=str(config.DATA_PATH)+'dialoge_problems.log',\n",
    "                        filemode='w',\n",
    "                        level=logging.DEBUG)\n",
    "    logging.info('Start logging')\n",
    "\n",
    "    for name_dataset in datasets:\n",
    "        with open(os.path.join(config.ENV_PATH, config.DATA_PATH, name_dataset + '.json')) as f:\n",
    "            json_data = json.load(f)\n",
    "\n",
    "        n_dialogues = len(json_data)\n",
    "        for l in json_data:\n",
    "            n_sentences_dialogue = len(l['dialogue'].split('#'))\n",
    "            n_words_dialogue = len(l['dialogue'].split())\n",
    "            n_words_per_sentence = n_words_dialogue / n_sentences_dialogue\n",
    "\n",
    "            n_extracts_per_summary_rel = len(l['relevant_dialogue'])\n",
    "            n_words_per_extract_rel = 0\n",
    "            for j in l['relevant_dialogue']:\n",
    "                n_words_per_extract_rel += len(j.split())\n",
    "            try:\n",
    "                n_words_per_extract_rel = n_words_per_extract_rel / n_extracts_per_summary_rel\n",
    "            except ZeroDivisionError:\n",
    "                n_words_per_extract_rel = 0\n",
    "                logging.info(f\"For {name_dataset} there is a ZeroDivisionError in relevant dialogue: {l}\")\n",
    "\n",
    "            n_extracts_per_summary_fine = len(l['finegrained_relevant_dialogue'])\n",
    "            n_words_per_extract_fine = 0\n",
    "            for j in l['finegrained_relevant_dialogue']:\n",
    "                n_words_per_extract_fine += len(j.split())\n",
    "            try:\n",
    "                n_words_per_extract_fine = n_words_per_extract_fine / n_extracts_per_summary_fine\n",
    "            except ZeroDivisionError:\n",
    "                n_words_per_extract_fine = 0\n",
    "                logging.info(f\"For {name_dataset} there is a ZeroDivisionError in finegrained relevant dialogue: {l}\")\n",
    "            \n",
    "            metadata_line = pd.DataFrame({'name': name_dataset,\n",
    "                                        'n_dialogues': n_dialogues,\n",
    "                                        'n_sentences_dialogue': n_sentences_dialogue,\n",
    "                                        'n_words_dialogue': n_words_dialogue,\n",
    "                                        'n_words_per_sentence': n_words_per_sentence,\n",
    "                                        'n_extracts_per_summary_rel': n_extracts_per_summary_rel,\n",
    "                                        'n_words_per_extract_rel': n_words_per_extract_rel,\n",
    "                                        'n_extracts_per_summary_fine': n_extracts_per_summary_fine,\n",
    "                                        'n_words_per_extract_fine': n_words_per_extract_fine}, index=[0])\n",
    "            \n",
    "            metadata = pd.concat([metadata, metadata_line],\n",
    "                                ignore_index=True)\n",
    "\n",
    "    metadata.to_csv(path_to_metadata, index=False)"
   ]
  },
  {
   "cell_type": "code",
   "execution_count": 40,
   "metadata": {},
   "outputs": [
    {
     "name": "stdout",
     "output_type": "stream",
     "text": [
      "<class 'pandas.core.frame.DataFrame'>\n",
      "RangeIndex: 16366 entries, 0 to 16365\n",
      "Data columns (total 9 columns):\n",
      " #   Column                       Non-Null Count  Dtype  \n",
      "---  ------                       --------------  -----  \n",
      " 0   name                         16366 non-null  object \n",
      " 1   n_dialogues                  16366 non-null  object \n",
      " 2   n_sentences_dialogue         16366 non-null  object \n",
      " 3   n_words_dialogue             16366 non-null  object \n",
      " 4   n_words_per_sentence         16366 non-null  float64\n",
      " 5   n_extracts_per_summary_rel   16366 non-null  object \n",
      " 6   n_words_per_extract_rel      16366 non-null  float64\n",
      " 7   n_extracts_per_summary_fine  16366 non-null  object \n",
      " 8   n_words_per_extract_fine     16366 non-null  float64\n",
      "dtypes: float64(3), object(6)\n",
      "memory usage: 1.1+ MB\n"
     ]
    }
   ],
   "source": [
    "metadata.info()"
   ]
  },
  {
   "cell_type": "code",
   "execution_count": 43,
   "metadata": {},
   "outputs": [
    {
     "data": {
      "text/plain": [
       "<AxesSubplot:xlabel='n_words_per_extract_rel', ylabel='n_words_per_extract_fine'>"
      ]
     },
     "execution_count": 43,
     "metadata": {},
     "output_type": "execute_result"
    },
    {
     "data": {
      "image/png": "[encoded data removed]",
      "text/plain": [
       "<Figure size 432x288 with 1 Axes>"
      ]
     },
     "metadata": {
      "needs_background": "light"
     },
     "output_type": "display_data"
    },
    {
     "data": {
      "image/png": "[encoded data removed]",
      "text/plain": [
       "<Figure size 432x288 with 1 Axes>"
      ]
     },
     "metadata": {
      "needs_background": "light"
     },
     "output_type": "display_data"
    },
    {
     "data": {
      "image/png": "[encoded data removed]",
      "text/plain": [
       "<Figure size 432x288 with 1 Axes>"
      ]
     },
     "metadata": {
      "needs_background": "light"
     },
     "output_type": "display_data"
    },
    {
     "data": {
      "image/png": "[encoded data removed]",
      "text/plain": [
       "<Figure size 432x288 with 1 Axes>"
      ]
     },
     "metadata": {
      "needs_background": "light"
     },
     "output_type": "display_data"
    },
    {
     "data": {
      "image/png": "[encoded data removed]",
      "text/plain": [
       "<Figure size 432x288 with 1 Axes>"
      ]
     },
     "metadata": {
      "needs_background": "light"
     },
     "output_type": "display_data"
    },
    {
     "data": {
      "image/png": "[encoded data removed]",
      "text/plain": [
       "<Figure size 432x288 with 1 Axes>"
      ]
     },
     "metadata": {
      "needs_background": "light"
     },
     "output_type": "display_data"
    }
   ],
   "source": [
    "metadata.plot(x='n_sentences_dialogue', kind='hist', bins=10000, loglog=True)\n",
    "metadata.plot(x='n_words_dialogue', kind='hist', bins=10000, loglog=True)\n",
    "metadata.plot(x='n_words_per_sentence', kind='hist', bins=10000, loglog=True)\n",
    "\n",
    "metadata.plot(x='n_sentences_dialogue', y='n_extracts_per_summary_rel', kind='scatter')\n",
    "metadata.plot(x='n_extracts_per_summary_rel', y='n_extracts_per_summary_fine', kind='scatter')\n",
    "metadata.plot(x='n_words_per_extract_rel', y='n_words_per_extract_fine', kind='scatter')\n",
    "# metadata_loaded.plot(x='n_dialogue', kind='area', )\n",
    "\n"
   ]
  },
  {
   "attachments": {},
   "cell_type": "markdown",
   "metadata": {},
   "source": [
    "### MemSum\n",
    "\n",
    "The model expects:\n",
    "\n",
    "- [x] download the pretrained word embeddings\n",
    "- [x] The training data is now stored in a .jsonl file that contains a list of json info, one line for one training instance. Each json (or dictonary) contains two keys:\n",
    "  1. \"text\": the value for which is a python list of sentences, this represents the document you want to summarize;\n",
    "  2. \"summary\": the value is also a list of sentences. If represent the ground-truth summary. Because the summary can contain multiple sentences, so we store them as a list.\n",
    "- [x] repeat for not-training corpus\n",
    "- [x] high-ROUGE episodes for the training set\n",
    "- [x] download glove into the `model/glove/` folder\n",
    "\n",
    "- [ ] we need to furthermore make a dataset with all the tokes instead of sentences as the basic thing\n"
   ]
  },
  {
   "cell_type": "code",
   "execution_count": 7,
   "metadata": {},
   "outputs": [
    {
     "name": "stdout",
     "output_type": "stream",
     "text": [
      "Requirement already satisfied: gdown in /home/work/.local/lib/python3.8/site-packages (4.6.0)\n",
      "Requirement already satisfied: requests[socks] in /usr/local/lib/python3.8/dist-packages (from gdown) (2.25.1)\n",
      "Requirement already satisfied: filelock in /home/work/.local/lib/python3.8/site-packages (from gdown) (3.4.2)\n",
      "Requirement already satisfied: six in /home/work/.local/lib/python3.8/site-packages (from gdown) (1.15.0)\n",
      "Requirement already satisfied: tqdm in /home/work/.local/lib/python3.8/site-packages (from gdown) (4.60.0)\n",
      "Requirement already satisfied: beautifulsoup4 in /usr/local/lib/python3.8/dist-packages (from gdown) (4.9.3)\n",
      "Requirement already satisfied: urllib3<1.27,>=1.21.1 in /usr/local/lib/python3.8/dist-packages (from requests[socks]->gdown) (1.26.4)\n",
      "Requirement already satisfied: certifi>=2017.4.17 in /home/work/.local/lib/python3.8/site-packages (from requests[socks]->gdown) (2020.12.5)\n",
      "Requirement already satisfied: chardet<5,>=3.0.2 in /usr/local/lib/python3.8/dist-packages (from requests[socks]->gdown) (4.0.0)\n",
      "Requirement already satisfied: idna<3,>=2.5 in /home/work/.local/lib/python3.8/site-packages (from requests[socks]->gdown) (2.10)\n",
      "Requirement already satisfied: PySocks!=1.5.7,>=1.5.6; extra == \"socks\" in /home/work/.local/lib/python3.8/site-packages (from requests[socks]->gdown) (1.7.1)\n",
      "Requirement already satisfied: soupsieve>1.2; python_version >= \"3.0\" in /usr/local/lib/python3.8/dist-packages (from beautifulsoup4->gdown) (2.2.1)\n",
      "Retrieving folder list\n",
      "Processing file 1SVTHcgWJDvoVCsLfdvkaw5ICkihjUoaH unigram_embeddings_200dim.pkl\n",
      "Processing file 1SuF4HSe0-IBKWGtc1xqlzMHNDneiLi4- vocabulary_200dim.pkl\n",
      "Retrieving folder list completed\n",
      "Building directory structure\n",
      "Building directory structure completed\n",
      "Downloading...\n",
      "From: https://drive.google.com/uc?id=1SVTHcgWJDvoVCsLfdvkaw5ICkihjUoaH\n",
      "To: /home/work/Dokumente/Studium/SimTech_MSc/Erasmus/Lectures/Text_mining/project/ExtractiveSummaryModels/MemSum-015ddda/model/glove/unigram_embeddings_200dim.pkl\n",
      "100%|████████████████████████████████████████| 320M/320M [00:06<00:00, 52.4MB/s]\n",
      "Downloading...\n",
      "From: https://drive.google.com/uc?id=1SuF4HSe0-IBKWGtc1xqlzMHNDneiLi4-\n",
      "To: /home/work/Dokumente/Studium/SimTech_MSc/Erasmus/Lectures/Text_mining/project/ExtractiveSummaryModels/MemSum-015ddda/model/glove/vocabulary_200dim.pkl\n",
      "100%|██████████████████████████████████████| 4.16M/4.16M [00:00<00:00, 21.3MB/s]\n",
      "Download completed\n"
     ]
    }
   ],
   "source": [
    "# download the pretrained word embeddings\n",
    "!mkdir -p MemSum-015ddda/model && cd MemSum-015ddda/model && gdown https://drive.google.com/drive/folders/1lrwYrrM3h0-9fwWCOmpRkydvmF6hmvmW --folder"
   ]
  },
  {
   "cell_type": "code",
   "execution_count": 5,
   "metadata": {},
   "outputs": [
    {
     "data": {
      "text/plain": [
       "'/home/work/Dokumente/Studium/SimTech_MSc/Erasmus/Lectures/Text_mining/project/ExtractiveSummaryModels/MemSum-015ddda'"
      ]
     },
     "execution_count": 5,
     "metadata": {},
     "output_type": "execute_result"
    }
   ],
   "source": [
    "os.chdir(os.path.join(config.ENV_PATH,'MemSum-015ddda'))\n",
    "os.getcwd()"
   ]
  },
  {
   "cell_type": "code",
   "execution_count": 19,
   "metadata": {},
   "outputs": [
    {
     "name": "stdout",
     "output_type": "stream",
     "text": [
      "For the train corpus of length 14729 we have the keys dict_keys(['text', 'summary'])\n",
      "[' Amanda: I baked  cookies. Do you want some?', ' Jerry: Sure!', \" Amanda: I'll bring you tomorrow :-)\"]\n",
      "[' Amanda: I baked  cookies. Do you want some?', \" Amanda: I'll bring you tomorrow :-)\"]\n",
      "-----------------------------------\n",
      "\n",
      "For the val corpus of length 818 we have the keys dict_keys(['text', 'summary'])\n",
      "[' A: Hi Tom, are you busy tomorrow’s afternoon?', ' B: I’m pretty sure I am. What’s up?', ' A: Can you go with me to the animal shelter?.']\n",
      "[' A: Hi Tom, are you busy tomorrow’s afternoon?', ' A: Can you go with me to the animal shelter?.', ' A: I want to get a puppy for my son.']\n",
      "-----------------------------------\n",
      "\n",
      "For the test corpus of length 819 we have the keys dict_keys(['text', 'summary'])\n",
      "[\" Hannah: Hey, do you have Betty's number?\", ' Amanda: Lemme check', ' Hannah: <file_gif>']\n",
      "[\" Hannah: Hey, do you have Betty's number?\", \" Amanda: Sorry, can't find it.\", ' Amanda: Ask Larry']\n",
      "-----------------------------------\n",
      "\n"
     ]
    }
   ],
   "source": [
    "# preprocessing custom data\n",
    "from data_preparation import preprocessing_memsum_data_sentences\n",
    "\n",
    "memsum_datasets = [config.name_trainset, config.name_valset, config.name_testset]\n",
    "\n",
    "! mkdir -p data/\n",
    "\n",
    "for d in memsum_datasets:\n",
    "    data_preparation.preprocessing_memsum_data_sentences(d)\n",
    "\n",
    "    # check if the preprocessing worked\n",
    "    corpus = [ json.loads(line) for line in open(os.path.join(config.ENV_PATH, config.DATA_PATH, str('memsum_sentences_' + d + \".jsonl\"))) ]\n",
    "    print(f\"For the {d} corpus of length {len(corpus)} we have the keys {corpus[0].keys()}\")\n",
    "    print(corpus[0][\"text\"][:3])\n",
    "    print(corpus[0][\"summary\"][:3])\n",
    "    print(\"-----------------------------------\\n\")\n",
    "\n",
    "    data_path = f\"../data/memsum_sentences_{d}.jsonl\"\n",
    "\n",
    "    ! cp $data_path data/"
   ]
  },
  {
   "cell_type": "code",
   "execution_count": 21,
   "metadata": {},
   "outputs": [
    {
     "name": "stderr",
     "output_type": "stream",
     "text": [
      "100%|██████████| 14729/14729 [14:38<00:00, 16.77it/s]\n"
     ]
    }
   ],
   "source": [
    "from src.data_preprocessing.MemSum.utils import greedy_extract\n",
    "import json\n",
    "from tqdm import tqdm\n",
    "\n",
    "train_corpus = [ json.loads(line) for line in open(\"data/memsum_sentences_train.jsonl\") ]\n",
    "for data in tqdm(train_corpus):\n",
    "    high_rouge_episodes = greedy_extract(data[\"text\"], data[\"summary\"], beamsearch_size = 2)\n",
    "    indices_list = []\n",
    "    score_list  = []\n",
    "\n",
    "    for indices, score in high_rouge_episodes:\n",
    "        indices_list.append( indices )\n",
    "        score_list.append(score)\n",
    "\n",
    "    data[\"indices\"] = indices_list\n",
    "    data[\"score\"] = score_list"
   ]
  },
  {
   "cell_type": "code",
   "execution_count": 22,
   "metadata": {},
   "outputs": [],
   "source": [
    "with open(\"data/memsum_sentences_train_labelled.jsonl\",\"w\") as f:\n",
    "    for data in train_corpus:\n",
    "        f.write(json.dumps(data) + \"\\n\")"
   ]
  },
  {
   "attachments": {},
   "cell_type": "markdown",
   "metadata": {},
   "source": [
    "### SciBERTSum\n",
    "\n",
    "- [ ] what is the maximum length of the tokens in the text? If $>512$, then set `max_pos` to this value\n",
    "- [ ] "
   ]
  },
  {
   "cell_type": "code",
   "execution_count": 6,
   "metadata": {},
   "outputs": [],
   "source": [
    "os.environ[\"JAVA_HOME\"] = \"/usr/lib/jvm/java-8-openjdk-amd64\""
   ]
  },
  {
   "attachments": {},
   "cell_type": "markdown",
   "metadata": {},
   "source": [
    "Unfortunately, I cannot download the pre-processed data because of a google drive error. [Try again later](https://drive.google.com/file/d/1xYHXYoQBa7DJVrq0ePly58ioq2EmmVG8/view)"
   ]
  },
  {
   "attachments": {},
   "cell_type": "markdown",
   "metadata": {},
   "source": [
    "### keyBERT\n",
    "\n",
    "According to the documentation one should not do preprocessing.\n",
    "\n",
    "- [x] keyBERT wants the data as a list of documents\n",
    "- [x] `CountVectorizer` to remove stop words and specify the length of the keywords\n",
    "- [x] `sentence-transformers` to create high-quality embeddings\n",
    "- [x] calculate the cosine similarity between candidates and the document\n",
    "- [x] trade-off accuracy and diversity to better represent the whole document"
   ]
  },
  {
   "cell_type": "code",
   "execution_count": 9,
   "metadata": {},
   "outputs": [
    {
     "name": "stdout",
     "output_type": "stream",
     "text": [
      "Name: keybert\n",
      "Version: 0.7.0\n",
      "Summary: KeyBERT performs keyword extraction with state-of-the-art transformer models.\n",
      "Home-page: https://github.com/MaartenGr/keyBERT\n",
      "Author: Maarten Grootendorst\n",
      "Author-email: maartengrootendorst@gmail.com\n",
      "License: UNKNOWN\n",
      "Location: /home/work/.local/lib/python3.8/site-packages\n",
      "Requires: numpy, sentence-transformers, rich, scikit-learn\n",
      "Required-by: \n"
     ]
    }
   ],
   "source": [
    "! pip show keybert"
   ]
  },
  {
   "cell_type": "code",
   "execution_count": 2,
   "metadata": {},
   "outputs": [],
   "source": [
    "import pickle\n",
    "\n",
    "# preprocessing custom data\n",
    "def preprocessing_keybert_data_tokens(name_dataset):\n",
    "    with open(os.path.join(config.ENV_PATH, config.DATA_PATH, name_dataset + '.json')) as f:\n",
    "        json_data = json.load(f)\n",
    "\n",
    "    keybert_docs, keybert_keywords = [], []\n",
    "\n",
    "    for l in json_data:\n",
    "        keybert_docs.append(l['dialogue'])\n",
    "        keybert_keywords.append(l['finegrained_relevant_dialogue'])\n",
    "\n",
    "    keybert_docs_path = os.path.join(config.ENV_PATH, config.DATA_PATH, str('keybert_token_docs_' + name_dataset + \".txt\"))\n",
    "    keybert_keywords_path = os.path.join(config.ENV_PATH, config.DATA_PATH, str('keybert_token_keywords_' + name_dataset + \".txt\"))\n",
    "    with open(keybert_docs_path, 'wb') as outfile_docs:\n",
    "        pickle.dump(keybert_docs, outfile_docs)\n",
    "    with open(keybert_keywords_path, 'wb') as outfile_keywords:\n",
    "        pickle.dump(keybert_keywords, outfile_keywords)\n",
    "\n",
    "keybert_datasets = [config.name_trainset, config.name_valset, config.name_testset]\n",
    "\n",
    "for d in keybert_datasets:\n",
    "    preprocessing_keybert_data_tokens(d)"
   ]
  },
  {
   "attachments": {},
   "cell_type": "markdown",
   "metadata": {},
   "source": [
    "- [ ] token limit? then split the documents into paragraphs and use mean pooling for the resulting vector\n",
    "\n",
    "The resulting keywords are n-grams of different size. But if we get the range of the keywords we can directly use the parameter `keyphrase_ngram_range` to feed it into `keyBERT`. BUT as one can see from below, it is not really practical to have a $61$-gram."
   ]
  },
  {
   "cell_type": "code",
   "execution_count": 9,
   "metadata": {},
   "outputs": [
    {
     "name": "stdout",
     "output_type": "stream",
     "text": [
      "now it has a crack on it, my heel broke as I was leaving to work so i had to go back to change causing me to be late to work, some *idiot* spilt coffee all over my presentation notes and because Malcome is such a jackass, of course he thought that making copies was *optional* even though it's his job\n",
      "61 \n",
      "\n",
      "googled me out, because he thought that i had a crush on him, because 2 weeks earlier  I LIKED A POST ON FB announcing that he was going to accompany poets on the guitar during the poetry reading\n",
      "39 \n",
      "\n",
      "can even go and work in the petrol station till 10pm and pop home on the late train if I want to, saves me food money to have a day or two of home cooking, plus it's a lot nicer\n",
      "40 \n",
      "\n"
     ]
    }
   ],
   "source": [
    "with open(os.path.join(config.ENV_PATH, config.DATA_PATH, str('keybert_token_keywords_' + \"train\" + \".txt\")), 'rb') as f:\n",
    "    train_keywords = pickle.load(f)\n",
    "\n",
    "with open(os.path.join(config.ENV_PATH, config.DATA_PATH, str('keybert_token_keywords_' + \"test\" + \".txt\")), 'rb') as f:\n",
    "    test_keywords = pickle.load(f)\n",
    "\n",
    "with open(os.path.join(config.ENV_PATH, config.DATA_PATH, str('keybert_token_keywords_' + \"val\" + \".txt\")), 'rb') as f:\n",
    "    val_keywords = pickle.load(f)\n",
    "\n",
    "longest_ngram_train = 0\n",
    "longest_ngram_train_text = ''\n",
    "for i in train_keywords:\n",
    "    for j in i:\n",
    "        if len(j.split(' ')) > longest_ngram_train:\n",
    "            longest_ngram_train = len(j.split(' '))\n",
    "            longest_ngram_train_text = j\n",
    "print(longest_ngram_train_text)\n",
    "print(longest_ngram_train, '\\n')\n",
    "\n",
    "longest_ngram_test = 0\n",
    "longest_ngram_test_text = ''\n",
    "for i in test_keywords:\n",
    "    for j in i:\n",
    "        if len(j.split(' ')) > longest_ngram_test:\n",
    "            longest_ngram_test = len(j.split(' '))\n",
    "            longest_ngram_test_text = j\n",
    "print(longest_ngram_test_text)\n",
    "print(longest_ngram_test, '\\n')\n",
    "\n",
    "longest_ngram_val = 0\n",
    "longest_ngram_val_text = ''\n",
    "for i in val_keywords:\n",
    "    for j in i:\n",
    "        if len(j.split(' ')) > longest_ngram_val:\n",
    "            longest_ngram_val = len(j.split(' '))\n",
    "            longest_ngram_val_text = j\n",
    "print(longest_ngram_val_text)\n",
    "print(longest_ngram_val, '\\n')\n"
   ]
  },
  {
   "attachments": {},
   "cell_type": "markdown",
   "metadata": {},
   "source": [
    "Given the [choices of bert models](https://www.sbert.net/docs/pretrained_models.html), the passage models (queries from bing -> relevant passages) make the most sense. To compare to the other publications, also the model trained on scientific citations can be used. The following models make sense:\n",
    "\n",
    "* `paraphrase-distilroberta-base-v2`: should perform well according to the docs\n",
    "* `msmarco`: passage ranking looks similar, here we use different versions\n",
    "* `specter`: trained on scientific citations"
   ]
  },
  {
   "cell_type": "code",
   "execution_count": 11,
   "metadata": {},
   "outputs": [
    {
     "name": "stderr",
     "output_type": "stream",
     "text": [
      "Downloading (…)2b9e5/.gitattributes: 100%|██████████| 736/736 [00:00<00:00, 167kB/s]\n",
      "Downloading (…)_Pooling/config.json: 100%|██████████| 190/190 [00:00<00:00, 52.4kB/s]\n",
      "Downloading (…)3c1ed2b9e5/README.md: 100%|██████████| 3.74k/3.74k [00:00<00:00, 827kB/s]\n",
      "Downloading (…)1ed2b9e5/config.json: 100%|██████████| 686/686 [00:00<00:00, 150kB/s]\n",
      "Downloading (…)ce_transformers.json: 100%|██████████| 122/122 [00:00<00:00, 27.3kB/s]\n",
      "Downloading (…)c1ed2b9e5/merges.txt: 100%|██████████| 456k/456k [00:00<00:00, 889kB/s]\n",
      "Downloading (…)\"pytorch_model.bin\";: 100%|██████████| 329M/329M [00:03<00:00, 86.5MB/s] \n",
      "Downloading (…)nce_bert_config.json: 100%|██████████| 53.0/53.0 [00:00<00:00, 25.1kB/s]\n",
      "Downloading (…)cial_tokens_map.json: 100%|██████████| 239/239 [00:00<00:00, 59.2kB/s]\n",
      "Downloading (…)2b9e5/tokenizer.json: 100%|██████████| 1.36M/1.36M [00:00<00:00, 2.16MB/s]\n",
      "Downloading (…)okenizer_config.json: 100%|██████████| 1.12k/1.12k [00:00<00:00, 254kB/s]\n",
      "Downloading (…)c1ed2b9e5/vocab.json: 100%|██████████| 798k/798k [00:00<00:00, 1.81MB/s]\n",
      "Downloading (…)ed2b9e5/modules.json: 100%|██████████| 229/229 [00:00<00:00, 40.5kB/s]\n"
     ]
    },
    {
     "data": {
      "text/html": [
       "<pre style=\"white-space:pre;overflow-x:auto;line-height:normal;font-family:Menlo,'DejaVu Sans Mono',consolas,'Courier New',monospace\">Amanda <span style=\"color: #000000; text-decoration-color: #000000; background-color: #ffff00\">baked cookies</span> Do you you want some Jerry Sure <span style=\"color: #000000; text-decoration-color: #000000; background-color: #ffff00\">Amanda ll bring</span> you tomorrow\n",
       "</pre>\n"
      ],
      "text/plain": [
       "Amanda \u001b[30;48;2;255;255;0mbaked cookies\u001b[0m Do you you want some Jerry Sure \u001b[30;48;2;255;255;0mAmanda ll bring\u001b[0m you tomorrow\n"
      ]
     },
     "metadata": {},
     "output_type": "display_data"
    },
    {
     "name": "stdout",
     "output_type": "stream",
     "text": [
      "['baked  cookies', \"'ll bring you tomorrow\"]\n",
      "[('amanda ll bring', 0.2079), ('want jerry sure amanda', 0.2348), ('ll bring tomorrow', 0.3243), ('cookies', 0.3588), ('baked cookies', 0.4457)]\n"
     ]
    }
   ],
   "source": [
    "from keybert import KeyBERT\n",
    "\n",
    "# hyperparameters\n",
    "keyphrase_ngram_range = (1, 4)\n",
    "maxsum_args = {'use_maxsum': True, 'nr_candidates': 20, 'top_n': 5} # `MaxSumSimilarity` with `nr_candidates` $< 20%$ of total number of unique words\n",
    "mmr_args = {'use_mmr': True, 'diversity': 0.7}\n",
    "model = 'paraphrase-distilroberta-base-v2' # \"all-MiniLM-L6-v2\" # stick to sentence transformers models as they are optimized, also the models using cosine similarity\n",
    "# 'msmarco-MiniLM-L6-cos-v5', 'msmarco-MiniLM-L12-cos-v5', 'msmarco-distilbert-cos-v5', 'allenai-specter', 'paraphrase-distilroberta-base-v2'\n",
    "shared_args = {'keyphrase_ngram_range': keyphrase_ngram_range, 'stop_words': 'english',}\n",
    "\n",
    "# load data\n",
    "with open(os.path.join(config.ENV_PATH, config.DATA_PATH, str('keybert_token_docs_' + \"train\" + \".txt\")),'rb') as f:\n",
    "    train_docs = pickle.load(f)\n",
    "\n",
    "with open(os.path.join(config.ENV_PATH, config.DATA_PATH, str('keybert_token_keywords_' + \"train\" + \".txt\")), 'rb') as f:\n",
    "    train_keywords = pickle.load(f)\n",
    "\n",
    "# for testing\n",
    "doc = train_docs[0]\n",
    "keywords = train_keywords[0]\n",
    "\n",
    "# model\n",
    "kw_model = KeyBERT(model=model)\n",
    "\n",
    "# prepare embeddings to save time when changeing hyperparameters\n",
    "# use docs instead of doc in production\n",
    "doc_embeddings, word_embeddings = kw_model.extract_embeddings(doc,\n",
    "                                                              **shared_args)\n",
    "                                                            #   keyphrase_ngram_range=keyphrase_ngram_range,  \n",
    "                                                            #   stop_words='english')\n",
    "\n",
    "keywords_candidates = kw_model.extract_keywords(doc,\n",
    "                                                doc_embeddings=doc_embeddings, word_embeddings=word_embeddings,\n",
    "                                                highlight=True,\n",
    "                                                **shared_args,\n",
    "                                                **maxsum_args,)\n",
    "\n",
    "print(keywords)\n",
    "print(keywords_candidates)"
   ]
  },
  {
   "attachments": {},
   "cell_type": "markdown",
   "metadata": {},
   "source": [
    "Problem: The model is of a form such that the phrase `'ll bring you tomorrow` is not even part of the candidates."
   ]
  },
  {
   "attachments": {},
   "cell_type": "markdown",
   "metadata": {},
   "source": [
    "## Training the models on the new data"
   ]
  },
  {
   "attachments": {},
   "cell_type": "markdown",
   "metadata": {},
   "source": [
    "### MemSum\n",
    "\n",
    "Note:\n",
    "1. you need to switch to the folder src/MemSum_Full;\n",
    "2. You can specify the path to training and validation set, the model_folder (where you want to store model checkpoints) and the log_folder (where you want to store the log info), and other parameters. \n",
    "3. You can provide the absolute path, or relative path, as shown in the example code below.\n",
    "4. n_device means the number of available GPUs"
   ]
  },
  {
   "cell_type": "code",
   "execution_count": 18,
   "metadata": {},
   "outputs": [],
   "source": [
    "path_to_memsum_training = os.path.join(config.ENV_PATH, \"MemSum-015ddda/\", \"src/MemSum_Full/\")"
   ]
  },
  {
   "cell_type": "code",
   "execution_count": 19,
   "metadata": {},
   "outputs": [
    {
     "name": "stdout",
     "output_type": "stream",
     "text": [
      "GPU available!\n",
      "Total number of available devices: 1\n",
      "14729it [00:00, 81718.53it/s]\n",
      "818it [00:00, 140141.36it/s]\n",
      "/home/work/.local/lib/python3.8/site-packages/torch/cuda/__init__.py:52: UserWarning: CUDA initialization: CUDA unknown error - this may be due to an incorrectly set up environment, e.g. changing env variable CUDA_VISIBLE_DEVICES after program start. Setting the available devices to be zero. (Triggered internally at  /pytorch/c10/cuda/CUDAFunctions.cpp:109.)\n",
      "  return torch._C._cuda_getDeviceCount() > 0\n",
      "0it [00:00, ?it/s]train.py:227: DeprecationWarning: `np.bool` is a deprecated alias for the builtin `bool`. To silence this warning, use `bool` by itself. Doing this will not modify any behavior and is safe. If you specifically wanted the numpy scalar type, use `np.bool_` here.\n",
      "Deprecated in NumPy 1.20; for more details and guidance: https://numpy.org/devdocs/release/1.20.0-notes.html#deprecations\n",
      "  remaining_mask_np = np.ones_like( doc_mask_np ).astype( np.bool ) | doc_mask_np\n",
      "train.py:228: DeprecationWarning: `np.bool` is a deprecated alias for the builtin `bool`. To silence this warning, use `bool` by itself. Doing this will not modify any behavior and is safe. If you specifically wanted the numpy scalar type, use `np.bool_` here.\n",
      "Deprecated in NumPy 1.20; for more details and guidance: https://numpy.org/devdocs/release/1.20.0-notes.html#deprecations\n",
      "  extraction_mask_np = np.zeros_like( doc_mask_np ).astype( np.bool ) | doc_mask_np\n",
      "99it [33:32, 21.33s/it][current_batch: 00100] loss: 2.063, learning rate: 0.000100\n",
      "199it [1:09:31, 23.16s/it][current_batch: 00200] loss: 2.096, learning rate: 0.000100\n",
      "299it [1:46:39, 22.40s/it][current_batch: 00300] loss: 2.080, learning rate: 0.000100\n",
      "399it [2:23:30, 22.33s/it][current_batch: 00400] loss: 1.920, learning rate: 0.000100\n",
      "499it [2:58:19, 19.45s/it][current_batch: 00500] loss: 2.004, learning rate: 0.000100\n",
      "599it [3:34:50, 22.33s/it][current_batch: 00600] loss: 2.016, learning rate: 0.000100\n",
      "620it [3:42:35, 21.44s/it]"
     ]
    },
    {
     "name": "stderr",
     "output_type": "stream",
     "text": [
      "IOStream.flush timed out\n",
      "IOStream.flush timed out\n"
     ]
    }
   ],
   "source": [
    "# hyperparameters\n",
    "max_seq_len = 100 \n",
    "max_doc_len = 500\n",
    "num_of_epochs = 10 \n",
    "max_extracted_sentences_per_document = 7\n",
    "moving_average_decay = 0.999\n",
    "p_stop_thres = 0.6\n",
    "\n",
    "# available GPU devices\n",
    "if torch.cuda.is_available():\n",
    "    print('GPU available!')\n",
    "    print(f\"Total number of available devices: {torch.cuda.device_count()}\")\n",
    "    device = torch.device(0)\n",
    "    n_device = torch.cuda.device_count()\n",
    "    batch_size_per_device = 1 # maximum my device supports, for 2 it dies after 5it\n",
    "else:\n",
    "    print('GPU not available.')\n",
    "    device = torch.device('cpu')\n",
    "    n_device = 0\n",
    "\n",
    "# paths to data\n",
    "memsum_training_corpus = os.path.join(config.ENV_PATH, \"MemSum-015ddda/\", \"data/memsum_sentences_train_labelled.jsonl\")\n",
    "memsum_val_corpus = os.path.join(config.ENV_PATH, \"MemSum-015ddda/\", \"data/memsum_sentences_val.jsonl\")\n",
    "\n",
    "!cd $path_to_memsum_training && python3 train.py -training_corpus_file_name $memsum_training_corpus -validation_corpus_file_name $memsum_val_corpus -model_folder ../../model/MemSum_Full/custom_data/200dim/run0/ -log_folder ../../log/MemSum_Full/custom_data/200dim/run0/ -vocabulary_file_name ../../model/glove/vocabulary_200dim.pkl -pretrained_unigram_embeddings_file_name ../../model/glove/unigram_embeddings_200dim.pkl -max_seq_len $max_seq_len -max_doc_len $max_doc_len -num_of_epochs $num_of_epochs -save_every 200 -n_device $n_device -batch_size_per_device $batch_size_per_device -max_extracted_sentences_per_document $max_extracted_sentences_per_document -moving_average_decay $moving_average_decay -p_stop_thres $p_stop_thres"
   ]
  },
  {
   "cell_type": "code",
   "execution_count": null,
   "metadata": {},
   "outputs": [],
   "source": []
  },
  {
   "attachments": {},
   "cell_type": "markdown",
   "metadata": {},
   "source": [
    "## Tuning the model hyperparameters, if applicable"
   ]
  },
  {
   "attachments": {},
   "cell_type": "markdown",
   "metadata": {},
   "source": [
    "### MemSum\n",
    "\n",
    "* num_heads: (int, default = 8\n",
    "* hidden_dim: (int, default = 1024\n",
    "* N_enc_l: (int, default = 3\n",
    "* N_enc_g: (int, default = 3\n",
    "* N_dec: (int, default = 3\n",
    "* max_seq_len: (int, default = 100\n",
    "* max_doc_len: (int, default = 50\n",
    "* num_of_epochs: (int, default = 50\n",
    "* print_every: (int, default = 100\n",
    "* save_every: (int, default = 500\n",
    "* validate_every:  (int, default= 1000\n",
    "* restore_old_checkpoint: (bool, default = True)\n",
    "* learning_rate: (float, default = 1e-4\n",
    "* warmup_step:  (int, default= 1000\n",
    "* weight_decay: (float, default = 1e-6)\n",
    "* dropout_rate: (float, default = 0.1)\n",
    "* n_device: (int, default = 8)\n",
    "* batch_size_per_device: (int, default = 16)\n",
    "* max_extracted_sentences_per_document: (int)\n",
    "* moving_average_decay: (float)\n",
    "* p_stop_thres: (float, default = 0.7\n",
    "* apply_length_normalization: (int, default = 1"
   ]
  },
  {
   "attachments": {},
   "cell_type": "markdown",
   "metadata": {},
   "source": [
    "### SciBERTSUM\n",
    "\n",
    "* attention mechanism\n",
    "* paper: learning rate is one of the most important hyper-parameters to tune"
   ]
  },
  {
   "attachments": {},
   "cell_type": "markdown",
   "metadata": {},
   "source": [
    "### keyBERT\n",
    "\n",
    "* different embeddings\n",
    "* number of keywords extracted, n-gram range (for keyphrases)"
   ]
  },
  {
   "attachments": {},
   "cell_type": "markdown",
   "metadata": {},
   "source": [
    "## Comparing the models\n",
    "\n",
    "* what is the length of the summaries the models produce?\n",
    "* for human experts three criteria: non-redundancy, coverage, and overall quality\n",
    "* model runtimes"
   ]
  },
  {
   "attachments": {},
   "cell_type": "markdown",
   "metadata": {},
   "source": [
    "## Summary and Conclusion"
   ]
  },
  {
   "cell_type": "markdown",
   "metadata": {},
   "source": []
  },
  {
   "attachments": {},
   "cell_type": "markdown",
   "metadata": {},
   "source": [
    "## Citations\n",
    "\n",
    "* Nianlong Gu, Elliott Ash, and Richard Hahnloser. 2022. [MemSum: Extractive Summarization of Long Documents Using Multi-Step Episodic Markov Decision Processes.](https://aclanthology.org/2022.acl-long.450) In Proceedings of the 60th Annual Meeting of the Association for Computational Linguistics (Volume 1: Long Papers), pages 6507–6522, Dublin, Ireland. Association for Computational Linguistics.\n",
    "* Sefid, Athar, and C. Lee Giles. [SciBERTSUM: Extractive Summarization for Scientific Documents.](https://doi.org/10.1007/978-3-031-06555-2_46) Document Analysis Systems: 15th IAPR International Workshop, DAS 2022, La Rochelle, France, May 22–25, 2022, Proceedings. Cham: Springer International Publishing, 2022.\n",
    "* Grootendorst, Maarten. [KeyBERT: Minimal keyword extraction with BERT.](https://doi.org/10.5281/zenodo.4461265) Zenodo (2020)."
   ]
  }
 ],
 "metadata": {
  "kernelspec": {
   "display_name": "Python 3",
   "language": "python",
   "name": "python3"
  },
  "language_info": {
   "codemirror_mode": {
    "name": "ipython",
    "version": 3
   },
   "file_extension": ".py",
   "mimetype": "text/x-python",
   "name": "python",
   "nbconvert_exporter": "python",
   "pygments_lexer": "ipython3",
   "version": "3.8.10"
  },
  "orig_nbformat": 4,
  "vscode": {
   "interpreter": {
    "hash": "31f2aee4e71d21fbe5cf8b01ff0e069b9275f58929596ceb00d14d90e3e16cd6"
   }
  }
 },
 "nbformat": 4,
 "nbformat_minor": 2
}
